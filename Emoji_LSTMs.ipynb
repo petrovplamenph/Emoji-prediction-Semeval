{
 "cells": [
  {
   "cell_type": "code",
   "execution_count": 1,
   "metadata": {},
   "outputs": [
    {
     "name": "stderr",
     "output_type": "stream",
     "text": [
      "C:\\Users\\EMO\\Anaconda3\\lib\\site-packages\\h5py\\__init__.py:36: FutureWarning: Conversion of the second argument of issubdtype from `float` to `np.floating` is deprecated. In future, it will be treated as `np.float64 == np.dtype(float).type`.\n",
      "  from ._conv import register_converters as _register_converters\n",
      "Using TensorFlow backend.\n"
     ]
    }
   ],
   "source": [
    "import matplotlib.pyplot as plt\n",
    "\n",
    "import pandas as pd\n",
    "import itertools\n",
    "\n",
    "import numpy as np\n",
    "\n",
    "import nltk\n",
    "from nltk.tokenize.regexp  import WhitespaceTokenizer\n",
    "from nltk.stem import WordNetLemmatizer\n",
    "\n",
    "from sklearn.metrics import accuracy_score, precision_score, recall_score, f1_score, classification_report, confusion_matrix\n",
    "\n",
    "from keras.layers import Bidirectional, Input, LSTM, Flatten,Dense, Activation\n",
    "from keras.layers.embeddings import Embedding\n",
    "\n",
    "from keras.optimizers import Adam\n",
    "from keras.models import Model\n",
    "import keras.backend as K\n",
    "from keras.models import Model\n",
    "from keras.layers.embeddings import Embedding\n",
    "from keras.models import Sequential\n",
    "import pickle\n",
    "%matplotlib  inline\n"
   ]
  },
  {
   "cell_type": "code",
   "execution_count": 2,
   "metadata": {},
   "outputs": [],
   "source": [
    "train_df = pd.read_pickle('Tra.p')\n",
    "test_df = pd.read_pickle('Tes.p')\n",
    "valid_df = pd.read_pickle('Val.p')\n",
    "\n",
    "y_train = np.array(pd.get_dummies(train_df['Emoji']))\n",
    "y_test = np.array(pd.get_dummies(test_df['Emoji']))\n",
    "y_valid = np.array(pd.get_dummies(valid_df['Emoji']))"
   ]
  },
  {
   "cell_type": "code",
   "execution_count": 3,
   "metadata": {},
   "outputs": [],
   "source": [
    "lemmatizer = WordNetLemmatizer()\n",
    "def convert_to_lem(text):\n",
    "    tokens = []\n",
    "    for word in  nltk.word_tokenize(text, language='english'):\n",
    "        #if len(word) < 2:\n",
    "            #continue\n",
    "        tokens.append(lemmatizer.lemmatize(word.lower()))\n",
    "    return tokens\n",
    "\n",
    "def tokenize_on_whitespace(sent):\n",
    "    result = []\n",
    "    for w in WhitespaceTokenizer().tokenize(sent):\n",
    "        result.append(w.lower())\n",
    "    return result\n",
    "\n",
    "def untokenize(lst):\n",
    "    result = ''\n",
    "    for w in lst:\n",
    "        result = result + \" \"+ str(w)\n",
    "    return result\n",
    "def calculate_metrix(y_test,pred):\n",
    "    acc = accuracy_score(y_test, pred)\n",
    "    #print('acc: %s' % acc)\n",
    "    micro_f1 = f1_score(y_test, pred,average='micro')\n",
    "    #print('F1 micro: {:.2f}'.format(micro_f1))\n",
    "    macro_f1 = f1_score(y_test, pred,average='macro')\n",
    "    #print('F1 macro: {:.2f}'.format(macro_f1))\n",
    "    micro_precision = precision_score(y_test, pred, average = 'micro')\n",
    "    #print('Micro-averaged precision = {:.2f} (treat instances equally)'\n",
    "          .format(micro_precision))\n",
    "    macro_precision = precision_score(y_test, pred, average = 'macro')\n",
    "    #print('Macro-averaged precision = {:.2f} (treat classes equally)'\n",
    "          .format(macro_precision))\n",
    "    micro_recall = recall_score(y_test, pred, average = 'micro')\n",
    "    #print('Micro-averaged recall = {:.2f} (treat instances equally)'\n",
    "          .format(micro_recall))\n",
    "    macro_recall = recall_score(y_test, pred, average = 'macro')\n",
    "    #print('Macro-averaged recall = {:.2f} (treat classes equally)'\n",
    "          .format(macro_recall))\n",
    "    return [acc, micro_f1, macro_f1, micro_precision, macro_precision, micro_recall, macro_recall]\n",
    "\n",
    "\n",
    "def plot_confusion_matrix(cm, title='Confusion matrix', cmap=plt.cm.Reds):\n",
    "    plt.imshow(cm, interpolation='nearest', cmap=cmap)\n",
    "    plt.title(title)\n",
    "    plt.colorbar()\n",
    "    my_tags = train_df['Emoji'].unique()\n",
    "    tick_marks = np.arange(len(my_tags))\n",
    "    target_names = tick_marks\n",
    "    plt.xticks(tick_marks, target_names, rotation=45)\n",
    "    plt.yticks(tick_marks, target_names)\n",
    "    plt.tight_layout()\n",
    "    plt.ylabel('True Emoji')\n",
    "    plt.xlabel('Predicted Emoji')\n",
    "\n",
    "    \n",
    "def evaluate_prediction(predictions, target, title=\"Confusion matrix\"):\n",
    "    cm = confusion_matrix(target, predictions)\n",
    "    #print('confusion matrix\\n %s' % cm)\n",
    "    #print('(row=expected, col=predicted)')\n",
    "    metrix = calculate_metrix(predictions,target)\n",
    "    cm_normalized = cm.astype('float') / cm.sum(axis=1)[:, np.newaxis]\n",
    "    #plot_confusion_matrix(cm_normalized, title + ' Normalized')\n",
    "    return metrix"
   ]
  },
  {
   "cell_type": "code",
   "execution_count": 13,
   "metadata": {},
   "outputs": [
    {
     "name": "stdout",
     "output_type": "stream",
     "text": [
      "150164    52\n",
      "387521    52\n",
      "79671     46\n",
      "151256    45\n",
      "479672    44\n",
      "214038    43\n",
      "184062    42\n",
      "8766      41\n",
      "283195    40\n",
      "5906      40\n",
      "Name: Text, dtype: int64\n"
     ]
    },
    {
     "data": {
      "image/png": "[encoded data removed]",
      "text/plain": [
       "<Figure size 432x288 with 1 Axes>"
      ]
     },
     "metadata": {},
     "output_type": "display_data"
    }
   ],
   "source": [
    "tokens = train_df['Text'].apply(convert_to_lem)\n",
    "tokens = tokens.apply(lambda x: len(x))\n",
    "tokens.plot.hist()\n",
    "print(tokens.sort_values(ascending=False).head(10))\n",
    "max_num_words = (tokens.max())"
   ]
  },
  {
   "cell_type": "code",
   "execution_count": 4,
   "metadata": {},
   "outputs": [],
   "source": [
    "def read_my_glove_vecs(w2v_map):\n",
    "    my_word_to_vec_map = pickle.load(open(w2v_map,\"rb\"))\n",
    "    my_words = my_word_to_vec_map.keys()\n",
    "    my_words_to_index = {}\n",
    "    my_index_to_words = {}\n",
    "    i = 1\n",
    "    for w in sorted(my_words):\n",
    "        my_words_to_index[w] = i\n",
    "        my_index_to_words[i] = w\n",
    "        i = i + 1\n",
    "    return my_words_to_index, my_index_to_words, my_word_to_vec_map\n",
    "\n",
    "\n",
    "def read_glove_vecs(glove_file):\n",
    "    with open(glove_file, 'r',encoding='UTF-8') as f:\n",
    "        words = set()\n",
    "        word_to_vec_map = {}\n",
    "        anom = 0\n",
    "        for line in f:\n",
    "            line = line.strip().split()\n",
    "            curr_word = line[0]\n",
    "            vec = np.array(line[1:], dtype=np.float64)\n",
    "            if vec.shape[0] == emb_dim:\n",
    "                words.add(curr_word)\n",
    "                word_to_vec_map[curr_word] = np.array(line[1:], dtype=np.float64)\n",
    "            else:\n",
    "                anom += 1\n",
    "        i = 1\n",
    "        words_to_index = {}\n",
    "        index_to_words = {}\n",
    "        for w in sorted(words):\n",
    "            words_to_index[w] = i\n",
    "            index_to_words[i] = w\n",
    "            i = i + 1\n",
    "    #print(anom)\n",
    "    return words_to_index, index_to_words, word_to_vec_map\n",
    "emb_dim = 50"
   ]
  },
  {
   "cell_type": "code",
   "execution_count": 8,
   "metadata": {
    "collapsed": true
   },
   "outputs": [],
   "source": [
    "add_lem_word_to_index, add_lem_index_to_word, add_lem_word_to_vec_map = read_my_glove_vecs('lemmas_and_normal.p')"
   ]
  },
  {
   "cell_type": "code",
   "execution_count": 9,
   "metadata": {},
   "outputs": [
    {
     "name": "stdout",
     "output_type": "stream",
     "text": [
      "150164    52\n",
      "387521    52\n",
      "79671     46\n",
      "151256    45\n",
      "479672    44\n",
      "214038    43\n",
      "184062    42\n",
      "5906      40\n",
      "283195    40\n",
      "8766      40\n",
      "Name: Text, dtype: int64\n"
     ]
    },
    {
     "data": {
      "image/png": "[encoded data removed]",
      "text/plain": [
       "<matplotlib.figure.Figure at 0x8d411ae48>"
      ]
     },
     "metadata": {},
     "output_type": "display_data"
    }
   ],
   "source": [
    "def max_seq_len_eval(lst):\n",
    "    i = 0\n",
    "    for i in range(len(lst)):\n",
    "        if lst[i] in add_lem_word_to_index:\n",
    "            i += 1\n",
    "        elif lst[i].lower() in add_lem_word_to_index:\n",
    "            i += 1\n",
    "        elif lemmatizer.lemmatize(lst[i].lower()) in add_lem_word_to_index:\n",
    "            i += 1\n",
    "    return i\n",
    "\n",
    "add_lem_word_to_index, add_lem_index_to_word, add_lem_word_to_vec_map = read_my_glove_vecs('lemmas_and_normal.p')\n",
    "tokens = train_df['Text'].apply(convert_to_lem)\n",
    "tokens = tokens.apply(max_seq_len_eval)\n",
    "tokens.plot.hist()\n",
    "print(tokens.sort_values(ascending=False).head(10))\n",
    "del tokens\n",
    "del add_lem_word_to_index\n",
    "del add_lem_index_to_word\n",
    "del add_lem_word_to_vec_map"
   ]
  },
  {
   "cell_type": "code",
   "execution_count": 10,
   "metadata": {
    "collapsed": true
   },
   "outputs": [],
   "source": [
    "emb_dim = 50\n",
    "timestemps = 35"
   ]
  },
  {
   "cell_type": "code",
   "execution_count": 20,
   "metadata": {
    "collapsed": true
   },
   "outputs": [],
   "source": [
    "lem_word_to_index, lem_index_to_word, lem_word_to_vec_map = read_my_glove_vecs('w2v_lemas_map.p')\n",
    "low_word_to_index, low_index_to_word, low_word_to_vec_map = read_my_glove_vecs('w2v_low_map.p')\n",
    "add_lem_word_to_index, add_lem_index_to_word, add_lem_word_to_vec_map = read_my_glove_vecs('lemmas_and_normal.p')\n",
    "add_low_word_to_index, add_low_index_to_word, add_low_word_to_vec_map = read_my_glove_vecs('low_and_normal.p')"
   ]
  },
  {
   "cell_type": "code",
   "execution_count": null,
   "metadata": {},
   "outputs": [],
   "source": [
    "word_to_index, index_to_word, word_to_vec_map = read_glove_vecs('glove.twitter.27B.'+str(emb_dim)+'d.txt')\n"
   ]
  },
  {
   "cell_type": "code",
   "execution_count": 12,
   "metadata": {},
   "outputs": [
    {
     "name": "stdout",
     "output_type": "stream",
     "text": [
      "_________________________________________________________________\n",
      "Layer (type)                 Output Shape              Param #   \n",
      "=================================================================\n",
      "input_1 (InputLayer)         (None, 35)                0         \n",
      "_________________________________________________________________\n",
      "embedding_1 (Embedding)      (None, 35, 50)            59675700  \n",
      "_________________________________________________________________\n",
      "bidirectional_1 (Bidirection (None, 35, 128)           58880     \n",
      "_________________________________________________________________\n",
      "dropout_1 (Dropout)          (None, 35, 128)           0         \n",
      "_________________________________________________________________\n",
      "lstm_2 (LSTM)                (None, 64)                49408     \n",
      "_________________________________________________________________\n",
      "dropout_2 (Dropout)          (None, 64)                0         \n",
      "_________________________________________________________________\n",
      "dense_1 (Dense)              (None, 20)                1300      \n",
      "_________________________________________________________________\n",
      "activation_1 (Activation)    (None, 20)                0         \n",
      "=================================================================\n",
      "Total params: 59,785,288\n",
      "Trainable params: 109,588\n",
      "Non-trainable params: 59,675,700\n",
      "_________________________________________________________________\n"
     ]
    }
   ],
   "source": [
    "\n",
    "def pretrained_embedding_layer(word_to_vec_map, word_to_index):\n",
    "    vocab_len = len(word_to_index) + 1                 \n",
    "    \n",
    "    emb_matrix = np.zeros((vocab_len, emb_dim))\n",
    "    \n",
    "    for word, idx in word_to_index.items():\n",
    "        emb_matrix[idx, :] = word_to_vec_map[word]\n",
    "\n",
    "    embedding_layer = Embedding(vocab_len, emb_dim, trainable=False)\n",
    "    embedding_layer.build((None,))    \n",
    "    embedding_layer.set_weights([emb_matrix])    \n",
    "    return embedding_layer\n",
    "def Bidirectinal_Context_Dense(word_to_vec_map, word_to_index):\n",
    "    \n",
    "    sentence_indices = Input(shape = (timestemps,), dtype=np.int32)\n",
    "    \n",
    "    embedding_layer =  pretrained_embedding_layer(word_to_vec_map, word_to_index)\n",
    "    \n",
    "    embeddings = embedding_layer(sentence_indices)\n",
    "    \n",
    "    X = Bidirectional(LSTM(64, return_sequences=True))(embeddings)\n",
    "    X = Dropout(0.4)(X)\n",
    "    X = LSTM(64, return_sequences=False)(X)\n",
    "    X = Dropout(0.4)(X)\n",
    "    X = Dense(20)(X)\n",
    "    X = Activation('softmax')(X)\n",
    "    model = Model(inputs=sentence_indices, outputs=X)\n",
    "    return model\n",
    "model1 = Bidirectinal_Context_Dense(word_to_vec_map, word_to_index)\n",
    "model1.summary()"
   ]
  },
  {
   "cell_type": "code",
   "execution_count": 13,
   "metadata": {},
   "outputs": [
    {
     "name": "stdout",
     "output_type": "stream",
     "text": [
      "_________________________________________________________________\n",
      "Layer (type)                 Output Shape              Param #   \n",
      "=================================================================\n",
      "input_2 (InputLayer)         (None, 35)                0         \n",
      "_________________________________________________________________\n",
      "embedding_2 (Embedding)      (None, 35, 50)            59675700  \n",
      "_________________________________________________________________\n",
      "lstm_3 (LSTM)                (None, 35, 128)           91648     \n",
      "_________________________________________________________________\n",
      "dropout_3 (Dropout)          (None, 35, 128)           0         \n",
      "_________________________________________________________________\n",
      "lstm_4 (LSTM)                (None, 64)                49408     \n",
      "_________________________________________________________________\n",
      "dropout_4 (Dropout)          (None, 64)                0         \n",
      "_________________________________________________________________\n",
      "dense_2 (Dense)              (None, 20)                1300      \n",
      "_________________________________________________________________\n",
      "activation_2 (Activation)    (None, 20)                0         \n",
      "=================================================================\n",
      "Total params: 59,818,056\n",
      "Trainable params: 142,356\n",
      "Non-trainable params: 59,675,700\n",
      "_________________________________________________________________\n"
     ]
    }
   ],
   "source": [
    "def LSTM_Context_Dense(word_to_vec_map, word_to_index):\n",
    "\n",
    "    sentence_indices = Input(shape=(timestemps,),dtype=np.int32)\n",
    "    \n",
    "    embedding_layer = pretrained_embedding_layer(word_to_vec_map, word_to_index)\n",
    "    \n",
    "    embeddings = embedding_layer(sentence_indices)   \n",
    "    \n",
    "    X = LSTM(128,return_sequences=True)(embeddings)\n",
    "    X = Dropout(0.4)(X)\n",
    "    X = LSTM(64)(X)\n",
    "    X = Dropout(0.4)(X)\n",
    "    X = Dense(20)(X)\n",
    "    X = Activation('softmax')(X)\n",
    "    \n",
    "    model = Model(sentence_indices,X)\n",
    "        \n",
    "    return model\n",
    "model2 = LSTM_Context_Dense(word_to_vec_map, word_to_index)\n",
    "model2.summary()"
   ]
  },
  {
   "cell_type": "code",
   "execution_count": 14,
   "metadata": {},
   "outputs": [
    {
     "name": "stdout",
     "output_type": "stream",
     "text": [
      "_________________________________________________________________\n",
      "Layer (type)                 Output Shape              Param #   \n",
      "=================================================================\n",
      "dense_3 (Dense)              (None, 50)                2550      \n",
      "_________________________________________________________________\n",
      "dense_4 (Dense)              (None, 20)                1020      \n",
      "=================================================================\n",
      "Total params: 3,570\n",
      "Trainable params: 3,570\n",
      "Non-trainable params: 0\n",
      "_________________________________________________________________\n"
     ]
    }
   ],
   "source": [
    "def simple_model():\n",
    "\n",
    "    model = Sequential()\n",
    "    model.add(Dense(50, input_shape=(emb_dim,), activation='tanh'))\n",
    "    model.add(Dense(20, input_shape=(emb_dim,), activation='softmax'))\n",
    "    return model\n",
    "model3 = linier_model()\n",
    "del word_to_index, index_to_word, word_to_vec_map\n",
    "model3.summary()"
   ]
  },
  {
   "cell_type": "code",
   "execution_count": null,
   "metadata": {},
   "outputs": [],
   "source": [
    "def get_score_tabel(number_models, number_of_emmbedings_models):\n",
    "    params_scores = [\"accuracy\",\"micro_f1\", \"macro_f1\", \"micro_precision\", \"macro_precision\", \"micro_recall\", \"macro_recall\"]\n",
    "    params_scores_test = [v +\"_test\" for v in params_scores]\n",
    "    params_scores_train = [v +\"_train\" for v in params_scores]\n",
    "    header = [\"embedings\",\"model\"]+params_scores_test + params_scores_train\n",
    "    result_df = pd.DataFrame(index=range(number_models * number_of_emmbedings_models),columns=header)\n",
    "    return result_df\n",
    "\n",
    "\n",
    "def fill(df,idx,vals):\n",
    "    print(vals)\n",
    "    for col in range(len(vals)):\n",
    "        df.iloc[idx,col] = vals[col] \n",
    "    print(df)\n",
    "    return df\n",
    "\n",
    "\n",
    "def average_words(array, word_to_vec_map):\n",
    "    \"\"\"compute average tweet vectors\"\"\"\n",
    "    average_vec_list = []\n",
    "    for row in array:\n",
    "        average = np.zeros((emb_dim,))    \n",
    "        for w in row:\n",
    "            average += w\n",
    "        average = average / len(row)\n",
    "        average_vec_list.append(average)\n",
    "    return np.array(average_vec_list)\n",
    "    \n",
    "\n",
    "\n",
    "def search_best_arhitecture_and_emmbedings(train_df, test_df, epoch = 1, b_size=128):\n",
    "\n",
    "    \n",
    "    train_df_copy = train_df.copy()\n",
    "    test_df_copy = test_df.copy()\n",
    "    \n",
    "    \n",
    "    def txt_to_idx(lst):\n",
    "        result =  np.zeros((timestemps))\n",
    "        for i in range(min(len(lst),timestemps)):\n",
    "            if lst[i] in word_to_index:\n",
    "                result[i] = word_to_index[lst[i]]\n",
    "            elif lst[i].lower() in word_to_index:\n",
    "                result[i] = word_to_index[lst[i].lower()]\n",
    "            elif lemmatizer.lemmatize(lst[i].lower()) in word_to_index:\n",
    "                result[i] = word_to_index[lemmatizer.lemmatize(lst[i].lower())]\n",
    "        return result\n",
    "    \n",
    "    train_lowercased_txt = train_df_copy['Text'].apply(tokenize_on_whitespace)\n",
    "    test_lowercased_txt = test_df_copy['Text'].apply(tokenize_on_whitespace)\n",
    "    \n",
    "    train_lemmatized_txt = train_df_copy['Text'].apply(convert_to_lem)\n",
    "    test_lemmatized_txt = test_df_copy['Text'].apply(convert_to_lem)\n",
    "    \n",
    "    del train_df_copy\n",
    "    del test_df_copy\n",
    "    \n",
    "    my_glove_vectors_names = [\"lemmas_and_normal_linear.p\",\"low_and_normal_linear.p\",\n",
    "                              \"concat_lemmas_and_normal.p\",\"concat_low_and_normal.p\",'w2v_low_map.p',\n",
    "                              'w2v_lemas_map.p', 'lemmas_and_normal.p', 'low_and_normal.p']\n",
    "    stanford_vectors = ['glove.twitter.27B.'+str(emb_dim)+'d.txt']\n",
    "    all_glove_vect_names = my_glove_vectors_names + stanford_vectors\n",
    "    anotations = [\"lemmas and stanford\",\"lowercased and stanford\",\"concatinated my lemmas and stanford\",\n",
    "                  \"concatinated my lowercased and stanford\",\"trained on my corpus lowercased words\",\n",
    "                  \"trained on my corpus lowercased and lemmatized words\", \n",
    "                  \"trained on my corpus lemmatized + stanford\", \"trained on my corpus lowercased + stanford\",\"stanford w2v\"]\n",
    "    result_df = get_score_tabel(len(anotations),3)\n",
    "    result_idx = 0\n",
    "    for i in range(len(all_glove_vect_names)):\n",
    "        anot = anotations[i]            \n",
    "        if i == len(all_glove_vect_names)-1:\n",
    "            word_to_index, index_to_word, word_to_vec_map = read_glove_vecs(all_glove_vect_names[i])\n",
    "        else:\n",
    "            word_to_index, index_to_word, word_to_vec_map = read_my_glove_vecs(all_glove_vect_names[i])\n",
    "        if ((i == 5) or (i == 6) or (i==2)or(i==0)):\n",
    "            X_train = train_lemmatized_txt\n",
    "            X_test = test_lemmatized_txt\n",
    "        else:\n",
    "            X_train = train_lowercased_txt\n",
    "            X_test = test_lowercased_txt\n",
    "        X_train = np.array(X_train.apply(txt_to_idx).values.tolist())\n",
    "        X_test = np.array(X_test.apply(txt_to_idx).values.tolist())\n",
    "        \n",
    "        l_model = simple_model()\n",
    "        \n",
    "        \n",
    "        l_model.compile(loss='categorical_crossentropy', optimizer='adam', metrics=['accuracy'])\n",
    "        l_model.fit(average_words(X_train, word_to_vec_map), y_train, epochs=epoch, batch_size=b_size, shuffle=True)\n",
    "        predictions = l_model.predict(average_words(X_test, word_to_vec_map), batch_size=b_size, verbose=0)\n",
    "        test_scores = evaluate_prediction(np.argmax(predictions,axis=1), np.argmax(y_test,axis=1))\n",
    "        predictions = l_model.predict(average_words(X_train,word_to_vec_map), batch_size=b_size, verbose=0)\n",
    "        train_scores = evaluate_prediction(np.argmax(predictions,axis=1), np.argmax(y_train,axis=1))\n",
    "        scores = [anot,\"Word avg. model\"] + test_scores + train_scores\n",
    "        result_df = fill(result_df,result_idx,scores)\n",
    "        result_idx += 1\n",
    "        \n",
    "        LCD_model = LSTM_Context_Dense(word_to_vec_map, word_to_index)\n",
    "        \n",
    "        LCD_model.compile(loss='categorical_crossentropy', optimizer='adam', metrics=['accuracy'])\n",
    "        LCD_model.fit(X_train, y_train, epochs=epoch, batch_size=b_size, shuffle=True)\n",
    "        predictions = LCD_model.predict(X_test, batch_size=b_size, verbose=0)\n",
    "        test_scores = evaluate_prediction(np.argmax(predictions,axis=1), np.argmax(y_test,axis=1))\n",
    "        predictions = LCD_model.predict(X_train, batch_size=b_size, verbose=0)\n",
    "        train_scores = evaluate_prediction(np.argmax(predictions,axis=1), np.argmax(y_train,axis=1))\n",
    "        scores = [anot,\"LSTM_Context_Densel\"] + test_scores + train_scores\n",
    "        result_df = fill(result_df,result_idx,scores)\n",
    "        result_idx += 1 \n",
    "        \n",
    "        BCD_model = Bidirectinal_Context_Dense(word_to_vec_map, word_to_index)        \n",
    "        BCD_model.compile(loss='categorical_crossentropy', optimizer='adam', metrics=['accuracy'])\n",
    "        BCD_model.fit(X_train, y_train, epochs=epoch, batch_size=b_size, shuffle=True)\n",
    "        predictions = BCD_model.predict(X_test, batch_size=b_size, verbose=0)\n",
    "        test_scores = evaluate_prediction(np.argmax(predictions,axis=1), np.argmax(y_test,axis=1))\n",
    "        predictions = BCD_model.predict(X_train, batch_size=b_size, verbose=0)\n",
    "        train_scores = evaluate_prediction(np.argmax(predictions,axis=1), np.argmax(y_train,axis=1))\n",
    "        scores = [anot,\"Bidirectinal_Context_Dense\"] + test_scores + train_scores\n",
    "        result_df = fill(result_df,result_idx,scores)\n",
    "        result_idx += 1\n",
    "        \n",
    "        \n",
    "        \n",
    "    return result_df\n",
    "        \n",
    "\n",
    "        \n",
    "result_table = search_best_arhitecture_and_emmbedings(train_df,test_df, 3, b_size=64)"
   ]
  },
  {
   "cell_type": "code",
   "execution_count": 21,
   "metadata": {},
   "outputs": [
    {
     "name": "stdout",
     "output_type": "stream",
     "text": [
      "_________________________________________________________________\n",
      "Layer (type)                 Output Shape              Param #   \n",
      "=================================================================\n",
      "input_17 (InputLayer)        (None, 35)                0         \n",
      "_________________________________________________________________\n",
      "embedding_17 (Embedding)     (None, 35, 50)            59891500  \n",
      "_________________________________________________________________\n",
      "bidirectional_9 (Bidirection (None, 35, 128)           58880     \n",
      "_________________________________________________________________\n",
      "dropout_33 (Dropout)         (None, 35, 128)           0         \n",
      "_________________________________________________________________\n",
      "lstm_34 (LSTM)               (None, 64)                49408     \n",
      "_________________________________________________________________\n",
      "dropout_34 (Dropout)         (None, 64)                0         \n",
      "_________________________________________________________________\n",
      "dense_33 (Dense)             (None, 20)                1300      \n",
      "_________________________________________________________________\n",
      "activation_17 (Activation)   (None, 20)                0         \n",
      "=================================================================\n",
      "Total params: 60,001,088\n",
      "Trainable params: 60,001,088\n",
      "Non-trainable params: 0\n",
      "_________________________________________________________________\n"
     ]
    }
   ],
   "source": [
    "def pretrained_embedding_layer2(word_to_vec_map, word_to_index, Trin_emb):\n",
    "    vocab_len = len(word_to_index) + 1                 \n",
    "    \n",
    "    emb_matrix = np.zeros((vocab_len, emb_dim))\n",
    "    \n",
    "    for word, idx in word_to_index.items():\n",
    "        emb_matrix[idx, :] = word_to_vec_map[word]\n",
    "\n",
    "    embedding_layer = Embedding(vocab_len, emb_dim, trainable=Trin_emb)\n",
    "    embedding_layer.build((None,))    \n",
    "    embedding_layer.set_weights([emb_matrix])    \n",
    "    return embedding_layer\n",
    "\n",
    "def Bidirectinal_Context_Dense(word_to_vec_map, word_to_index, Trin_emb = False, bi_dir_dim=64,dropout=0.4):\n",
    "    \n",
    "    sentence_indices = Input(shape = (timestemps,), dtype=np.int32)\n",
    "    \n",
    "    embedding_layer =  pretrained_embedding_layer2(word_to_vec_map, word_to_index, Trin_emb)\n",
    "    \n",
    "    embeddings = embedding_layer(sentence_indices)\n",
    "    \n",
    "    X = Bidirectional(LSTM(bi_dir_dim, return_sequences=True))(embeddings)\n",
    "    X = Dropout(dropout)(X)\n",
    "    X = LSTM(bi_dir_dim, return_sequences=False)(X)\n",
    "    X = Dropout(dropout)(X)\n",
    "    X = Dense(20)(X)\n",
    "    X = Activation('softmax')(X)\n",
    "    \n",
    "    model = Model(inputs=sentence_indices, outputs=X)\n",
    "    return model\n",
    "\n",
    "word_to_index, index_to_word, word_to_vec_map = read_my_glove_vecs('low_and_normal.p')\n",
    "model1 = Bidirectinal_Context_Dense(word_to_vec_map, word_to_index,True)\n",
    "model1.summary()\n"
   ]
  },
  {
   "cell_type": "code",
   "execution_count": 23,
   "metadata": {},
   "outputs": [],
   "source": [
    "def txt_to_idx(lst):\n",
    "    result =  np.zeros((timestemps))\n",
    "    for i in range(min(len(lst),timestemps)):\n",
    "        if lst[i] in word_to_index:\n",
    "            result[i] = word_to_index[lst[i]]\n",
    "        elif lst[i].lower() in word_to_index:\n",
    "            result[i] = word_to_index[lst[i].lower()]\n",
    "        elif lemmatizer.lemmatize(lst[i].lower()) in word_to_index:\n",
    "            result[i] = word_to_index[lemmatizer.lemmatize(lst[i].lower())]\n",
    "    return result"
   ]
  },
  {
   "cell_type": "code",
   "execution_count": null,
   "metadata": {},
   "outputs": [],
   "source": [
    "train_df_copy = train_df.copy()\n",
    "test_df_copy = test_df.copy()\n",
    "b_size = 64\n",
    "   \n",
    "X_train = train_df_copy['Text'].apply(tokenize_on_whitespace)\n",
    "X_test = test_df_copy['Text'].apply(tokenize_on_whitespace)\n",
    "\n",
    "X_train = np.array(X_train.apply(txt_to_idx).values.tolist())\n",
    "X_test = np.array(X_test.apply(txt_to_idx).values.tolist())\n",
    "\n",
    "word_to_index, index_to_word, word_to_vec_map = read_my_glove_vecs('low_and_normal.p')\n",
    "BCD_model = Bidirectinal_Context_Dense(word_to_vec_map, word_to_index, True)\n",
    "        \n",
    "BCD_model.compile(loss='categorical_crossentropy', optimizer='adam', metrics=['accuracy'])\n",
    "sc_test = []\n",
    "sc_train = []\n",
    "for i in range(10):\n",
    "    BCD_model.fit(X_train, y_train, epochs=1, batch_size=b_size, shuffle=True)\n",
    "    predictions = BCD_model.predict(X_test, batch_size=b_size, verbose=0)\n",
    "    test_scores = evaluate_prediction(np.argmax(predictions,axis=1), np.argmax(y_test,axis=1))\n",
    "    predictions = BCD_model.predict(X_train, batch_size=b_size, verbose=0)\n",
    "    train_scores = evaluate_prediction(np.argmax(predictions,axis=1), np.argmax(y_train,axis=1))\n",
    "    sc_test.append(test_scores)\n",
    "    sc_train.append(train_scores)"
   ]
  },
  {
   "cell_type": "code",
   "execution_count": 39,
   "metadata": {},
   "outputs": [],
   "source": [
    "f1_test = [x[2] for x in sc_test]\n",
    "f1_train = [x[2] for x in sc_train]\n",
    "acc_test = [x[0] for x in sc_test]\n",
    "acc_train = [x[0] for x in sc_train]\n"
   ]
  },
  {
   "cell_type": "code",
   "execution_count": 62,
   "metadata": {},
   "outputs": [
    {
     "data": {
      "image/png": "[encoded data removed]",
      "text/plain": [
       "<matplotlib.figure.Figure at 0x8b007ba58>"
      ]
     },
     "metadata": {},
     "output_type": "display_data"
    }
   ],
   "source": [
    "plt.plot(dim,f1_train)\n",
    "plt.plot(dim,f1_test)\n",
    "plt.title('BI-LSTM macro avg. F1 on embedings 8')\n",
    "plt.ylabel('Macro F1')\n",
    "plt.xlabel('epoch')\n",
    "plt.legend(['train', 'valid'], loc='upper left')\n",
    "plt.show()"
   ]
  },
  {
   "cell_type": "code",
   "execution_count": 61,
   "metadata": {},
   "outputs": [
    {
     "data": {
      "text/plain": [
       "<matplotlib.legend.Legend at 0x8b009ceb8>"
      ]
     },
     "execution_count": 61,
     "metadata": {},
     "output_type": "execute_result"
    },
    {
     "data": {
      "image/png": "[encoded data removed]",
      "text/plain": [
       "<matplotlib.figure.Figure at 0x8e60ec2b0>"
      ]
     },
     "metadata": {},
     "output_type": "display_data"
    }
   ],
   "source": [
    "dim=range(1,11)\n",
    "plt.plot(dim,acc_train)\n",
    "plt.plot(dim,acc_test)\n",
    "plt.title('BI-LSTM accuracy on embedings 8')\n",
    "plt.ylabel('accuracy')\n",
    "plt.xlabel('epoch')\n",
    "plt.legend(['train', 'valid'], loc='upper left')\n"
   ]
  }
 ],
 "metadata": {
  "kernelspec": {
   "display_name": "Python 3",
   "language": "python",
   "name": "python3"
  },
  "language_info": {
   "codemirror_mode": {
    "name": "ipython",
    "version": 3
   },
   "file_extension": ".py",
   "mimetype": "text/x-python",
   "name": "python",
   "nbconvert_exporter": "python",
   "pygments_lexer": "ipython3",
   "version": "3.6.4"
  }
 },
 "nbformat": 4,
 "nbformat_minor": 2
}
