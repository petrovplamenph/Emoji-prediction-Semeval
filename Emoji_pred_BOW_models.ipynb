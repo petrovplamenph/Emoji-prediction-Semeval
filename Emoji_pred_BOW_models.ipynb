{
 "cells": [
  {
   "cell_type": "code",
   "execution_count": 1,
   "metadata": {},
   "outputs": [],
   "source": [
    "import pandas as pd\n",
    "import numpy as np\n",
    "import pickle\n",
    "import random\n",
    "\n",
    "import nltk\n",
    "from nltk import FreqDist\n",
    "\n",
    "from nltk.stem import WordNetLemmatizer\n",
    "from nltk.tokenize import WhitespaceTokenizer\n",
    "from nltk.stem import PorterStemmer\n",
    "from sklearn.feature_selection import chi2\n",
    "from sklearn.metrics import accuracy_score, precision_score, recall_score, f1_score, confusion_matrix\n",
    "from sklearn.metrics import classification_report\n",
    "from sklearn.feature_extraction.text import CountVectorizer\n",
    "from sklearn import metrics\n",
    "from sklearn.feature_extraction.text import TfidfVectorizer\n",
    "from sklearn.naive_bayes import MultinomialNB\n",
    "from sklearn.tree import DecisionTreeClassifier\n",
    "from sklearn.svm import SVC\n",
    "from sklearn.svm import LinearSVC\n",
    "import matplotlib.pyplot as plt\n",
    "from sklearn.preprocessing import normalize\n",
    "\n",
    "#nltk.download('stopwords')\n",
    "#nltk.download('punkt')\n",
    "#nltk.download('wordnet')\n",
    "#nltk.download('words')\n",
    "import matplotlib.pyplot as plt\n",
    "%matplotlib  inline"
   ]
  },
  {
   "cell_type": "markdown",
   "metadata": {},
   "source": [
    "Emoji prediction with Bag of Words approach"
   ]
  },
  {
   "cell_type": "code",
   "execution_count": 2,
   "metadata": {},
   "outputs": [
    {
     "data": {
      "text/html": [
       "<div>\n",
       "<style scoped>\n",
       "    .dataframe tbody tr th:only-of-type {\n",
       "        vertical-align: middle;\n",
       "    }\n",
       "\n",
       "    .dataframe tbody tr th {\n",
       "        vertical-align: top;\n",
       "    }\n",
       "\n",
       "    .dataframe thead th {\n",
       "        text-align: right;\n",
       "    }\n",
       "</style>\n",
       "<table border=\"1\" class=\"dataframe\">\n",
       "  <thead>\n",
       "    <tr style=\"text-align: right;\">\n",
       "      <th></th>\n",
       "      <th>Text</th>\n",
       "      <th>Emoji</th>\n",
       "    </tr>\n",
       "  </thead>\n",
       "  <tbody>\n",
       "    <tr>\n",
       "      <th>0</th>\n",
       "      <td>LoL   West Covina , California</td>\n",
       "      <td>2</td>\n",
       "    </tr>\n",
       "    <tr>\n",
       "      <th>1</th>\n",
       "      <td>Things got little festive office   RedRock… ...</td>\n",
       "      <td>17</td>\n",
       "    </tr>\n",
       "    <tr>\n",
       "      <th>2</th>\n",
       "      <td>Step explore ️   Ellis Island Cafe</td>\n",
       "      <td>0</td>\n",
       "    </tr>\n",
       "    <tr>\n",
       "      <th>3</th>\n",
       "      <td>user   Cathedral Preparatory School</td>\n",
       "      <td>18</td>\n",
       "    </tr>\n",
       "    <tr>\n",
       "      <th>4</th>\n",
       "      <td>My baby bear   Bubby is</td>\n",
       "      <td>1</td>\n",
       "    </tr>\n",
       "  </tbody>\n",
       "</table>\n",
       "</div>"
      ],
      "text/plain": [
       "                                                Text  Emoji\n",
       "0                   LoL   West Covina , California        2\n",
       "1    Things got little festive office   RedRock… ...     17\n",
       "2               Step explore ️   Ellis Island Cafe        0\n",
       "3              user   Cathedral Preparatory School       18\n",
       "4                          My baby bear   Bubby is        1"
      ]
     },
     "execution_count": 2,
     "metadata": {},
     "output_type": "execute_result"
    }
   ],
   "source": [
    "tweets = pd.DataFrame(pd.read_pickle('tweeter_df_procesed_str'))\n",
    "labels = pd.read_table('tweet_by_ID_08_12_2017__04_04_11.txt.labels',header=None,names =['Emoji'])\n",
    "\n",
    "df = pd.merge(tweets, labels, left_index=True, right_index=True)\n",
    "df['Text'] = df['Text'].str.replace(r'[0-9]{1,3}','number')\n",
    "df['Text'] = df['Text'].str.replace(r'#',' ')\n",
    "df['Text'] = df['Text'].str.replace(r'@',' ')\n",
    "df.head()"
   ]
  },
  {
   "cell_type": "markdown",
   "metadata": {},
   "source": [
    "Helper functions"
   ]
  },
  {
   "cell_type": "code",
   "execution_count": 2,
   "metadata": {},
   "outputs": [],
   "source": [
    "lemmatizer = WordNetLemmatizer()\n",
    "stemmer = PorterStemmer()\n",
    "\n",
    "def convert_to_stem(text):\n",
    "    tokens = []\n",
    "    for word in  nltk.word_tokenize(text, language='english'):\n",
    "        #if len(word) < 2:\n",
    "            #continue\n",
    "        tokens.append(stemmer.stem(word.lower()))\n",
    "    return tokens\n",
    "\n",
    "def convert_to_lem(text):\n",
    "    tokens = []\n",
    "    for word in  nltk.word_tokenize(text, language='english'):\n",
    "        #if len(word) < 2:\n",
    "            #continue\n",
    "        tokens.append(lemmatizer.lemmatize(word.lower()))\n",
    "    return tokens\n",
    "\n",
    "def tokenize_on_whitespace(sent):\n",
    "    result = []\n",
    "    for w in WhitespaceTokenizer().tokenize(sent):\n",
    "        result.append(w.lower())\n",
    "    return result\n",
    "\n",
    "def untokenize(lst):\n",
    "    result = ''\n",
    "    for w in lst:\n",
    "        result = result + \" \"+ str(w)\n",
    "    return result\n",
    "def calculate_metrix(y_test,pred):\n",
    "\n",
    "\n",
    "    print('F1 micro: {:.2f}'.format(f1_score(y_test, pred,average='micro')))\n",
    "    print('F1 macro: {:.2f}'.format(f1_score(y_test, pred,average='macro')))\n",
    "\n",
    "\n",
    "\n",
    "    print('Micro-averaged precision = {:.2f} (treat instances equally)'\n",
    "          .format(precision_score(y_test, pred, average = 'micro')))\n",
    "    print('Macro-averaged precision = {:.2f} (treat classes equally)'\n",
    "          .format(precision_score(y_test, pred, average = 'macro')))\n",
    "    print('Micro-averaged recall = {:.2f} (treat instances equally)'\n",
    "          .format(recall_score(y_test, pred, average = 'micro')))\n",
    "    print('Macro-averaged recall = {:.2f} (treat classes equally)'\n",
    "          .format(recall_score(y_test, pred, average = 'macro')))\n",
    "    \n",
    "def plot_confusion_matrix(cm, title='Confusion matrix', cmap=plt.cm.Reds):\n",
    "    plt.imshow(cm, interpolation='nearest', cmap=cmap)\n",
    "    plt.title(title)\n",
    "    plt.colorbar()\n",
    "    my_tags = train_df['Emoji'].unique()\n",
    "    tick_marks = np.arange(len(my_tags))\n",
    "    target_names = tick_marks\n",
    "    plt.xticks(tick_marks, target_names, rotation=45)\n",
    "    plt.yticks(tick_marks, target_names)\n",
    "    plt.tight_layout()\n",
    "    plt.ylabel('True Emoji')\n",
    "    plt.xlabel('Predicted Emoji')\n",
    "\n",
    "def evaluate_prediction(predictions, target, title=\"Confusion matrix\"):\n",
    "    print('acc: %s' % accuracy_score(target, predictions))\n",
    "    cm = confusion_matrix(target, predictions)\n",
    "    #print('confusion matrix\\n %s' % cm)\n",
    "    #print('(row=expected, col=predicted)')\n",
    "    calculate_metrix(predictions,target)\n",
    "    cm_normalized = cm.astype('float') / cm.sum(axis=1)[:, np.newaxis]\n",
    "    plot_confusion_matrix(cm_normalized, title + ' Normalized')\n",
    "def words_sort_by_freq(series, threshold, Flag_for_stem_tokinzer = True):\n",
    "    threshold += 1\n",
    "    if Flag_for_stem_tokinzer:\n",
    "        df_tkn = series.apply(convert_to_stem)\n",
    "    else:\n",
    "        df_tkn = series.apply(convert_to_lem)\n",
    "    df_array = df_tkn.values.tolist()\n",
    "    flattend = []\n",
    "    for row in df_array:\n",
    "        flattend += row\n",
    "    dist = FreqDist(flattend)\n",
    "    sortedToken = sorted(list(set(flattend)), key=lambda token: dist[token], reverse=False)\n",
    "    word_freq_sorted = [(token, dist[token]) for token in sortedToken]\n",
    "\n",
    "    for idx in range(len(word_freq_sorted)):\n",
    "        if word_freq_sorted[idx][1] == threshold:\n",
    "            start = idx\n",
    "            break\n",
    "    return  word_freq_sorted[start:]\n",
    "    #word_freq = [(line[0], line[1]) for line in word_to_freq[start:]])\n",
    "def words_distribution_above_treshold(series, threshold=5, Flag_for_stem_tokinzer = True):\n",
    "    word_freq_sorted = words_sort_by_freq(series, threshold, Flag_for_stem_tokinzer)\n",
    "    previous_freq = word_freq_sorted[0][1]\n",
    "    frequences = []\n",
    "    number_of_words_with_freq = []\n",
    "    word_counter = 0\n",
    "    for line in word_freq_sorted:\n",
    "        freq = line[1]\n",
    "        word_counter += 1\n",
    "        if freq  != previous_freq:\n",
    "            frequences.append(previous_freq)\n",
    "            number_of_words_with_freq.append(word_counter)\n",
    "            word_counter = 0\n",
    "        previous_freq = freq\n",
    "    if word_freq_sorted[-1][1] == word_freq_sorted[-2][1]:\n",
    "        frequences.append(freq)\n",
    "        number_of_words_with_freq.append(word_counter)\n",
    "    else:\n",
    "        frequences.append(freq)\n",
    "        number_of_words_with_freq.append(1)\n",
    "\n",
    "    return (frequences, number_of_words_with_freq)\n",
    "    \n",
    "def words_with_freq_above_treshold(series, threshold=5, Flag_for_stem_tokinzer = True):\n",
    "    word_freq_sorted = words_sort_by_freq(series, threshold, Flag_for_stem_tokinzer)\n",
    "    result = [(line[0]) for line in word_freq_sorted]\n",
    "    \n",
    "    return result"
   ]
  },
  {
   "cell_type": "code",
   "execution_count": null,
   "metadata": {},
   "outputs": [],
   "source": [
    "word_freqs, num_words = words_distribution_above_treshold(df['Text'], 2) \n",
    "vacabilary_words_above_treshold = words_with_freq_above_treshold(df['Text'], 2)\n",
    "print(\"Total number of words: \"+ str(len(vacabilary_words_above_treshold)))"
   ]
  },
  {
   "cell_type": "code",
   "execution_count": 6,
   "metadata": {},
   "outputs": [
    {
     "name": "stdout",
     "output_type": "stream",
     "text": [
      "Total number of words: 48767\n"
     ]
    }
   ],
   "source": [
    "word_freqs, num_words = words_distribution_above_treshold(df['Text'], 2,False) \n",
    "vacabilary_words_above_treshold = words_with_freq_above_treshold(df['Text'], 2, False)\n",
    "print(\"Total number of words: \"+ str(len(vacabilary_words_above_treshold)))\n"
   ]
  },
  {
   "cell_type": "markdown",
   "metadata": {},
   "source": [
    "Shuffle data and split in train, test and dev sets"
   ]
  },
  {
   "cell_type": "code",
   "execution_count": null,
   "metadata": {},
   "outputs": [],
   "source": [
    "perm = np.random.permutation(df.index)\n",
    "df = df.reindex(perm)\n",
    "\n",
    "num_rows = df.shape[0]\n",
    "train_size =  0.91\n",
    "test_size = 0.06\n",
    "\n",
    "train_rows = int(num_rows*train_size)\n",
    "test_rows = train_rows + int(num_rows*test_size)\n",
    "\n",
    "test_df = df.iloc[train_rows:test_rows,:]\n",
    "\n",
    "valid_df = df.iloc[test_rows:,:]\n",
    "\n",
    "train_df = df.iloc[:train_rows,:]\n",
    "print(train_df.shape, test_df.shape, valid_df.shape)"
   ]
  },
  {
   "cell_type": "code",
   "execution_count": 217,
   "metadata": {},
   "outputs": [],
   "source": [
    "# Save the data\n",
    "#train_df.to_pickle('Tra.p')\n",
    "#test_df.to_pickle('Tes.p')\n",
    "#valid_df.to_pickle('Val.p')"
   ]
  },
  {
   "cell_type": "code",
   "execution_count": 5,
   "metadata": {},
   "outputs": [],
   "source": [
    "train_df = pd.read_pickle('Tra.p')\n",
    "test_df = pd.read_pickle('Tes.p')\n",
    "valid_df = pd.read_pickle('Val.p')\n"
   ]
  },
  {
   "cell_type": "markdown",
   "metadata": {},
   "source": [
    "Naive Bayes model"
   ]
  },
  {
   "cell_type": "code",
   "execution_count": 6,
   "metadata": {},
   "outputs": [
    {
     "name": "stdout",
     "output_type": "stream",
     "text": [
      "(437474, 33382)\n",
      "0.4058383025932603\n",
      "acc: 0.4058383025932603\n",
      "F1 micro: 0.41\n",
      "F1 macro: 0.26\n",
      "Micro-averaged precision = 0.41 (treat instances equally)\n",
      "Macro-averaged precision = 0.27 (treat classes equally)\n",
      "Micro-averaged recall = 0.41 (treat instances equally)\n",
      "Macro-averaged recall = 0.30 (treat classes equally)\n"
     ]
    },
    {
     "data": {
      "image/png": "[encoded data removed]",
      "text/plain": [
       "<Figure size 432x288 with 2 Axes>"
      ]
     },
     "metadata": {},
     "output_type": "display_data"
    }
   ],
   "source": [
    "def prediction_of_models(model,X_train_vectorized, X_test_vectorized, y_train,y_test):\n",
    "    predictions = model.predict(X_test_vectorized)\n",
    "    print(metrics.accuracy_score(y_test, predictions))\n",
    "    evaluate_prediction(predictions, y_test)\n",
    "\n",
    "def Train_clf(train_df, test_df, clf, preselected=False ,vocabilary_of_preselected_words = None):\n",
    "    X_train = train_df['Text']\n",
    "    y_train = train_df['Emoji']\n",
    "    X_test = test_df['Text']\n",
    "    y_test = test_df['Emoji']  \n",
    "    \n",
    "    if preselected:\n",
    "        vect = CountVectorizer(tokenizer = convert_to_stem, vocabulary = vocabilary_of_preselected_words).fit(X_train)\n",
    "        \n",
    "    else:\n",
    "        vect = CountVectorizer(tokenizer = convert_to_stem, min_df=4).fit(X_train)\n",
    "    \n",
    "\n",
    "    \n",
    "    X_train_vectorized = vect.transform(X_train)\n",
    "    X_test_vectorized = vect.transform(X_test)\n",
    "    print(X_train_vectorized.shape)\n",
    "    model = clf.fit(X_train_vectorized, y_train)\n",
    "    prediction_of_models(model, X_train_vectorized, X_test_vectorized, y_train, y_test)\n",
    "    \n",
    "    \n",
    "    return model , X_test_vectorized\n",
    "\n",
    "CLF = MultinomialNB()\n",
    "CLF, X_test_vectorized = Train_clf(train_df.iloc[:,:], test_df, CLF)"
   ]
  },
  {
   "cell_type": "markdown",
   "metadata": {},
   "source": [
    "Feature selection with chi-square "
   ]
  },
  {
   "cell_type": "code",
   "execution_count": 7,
   "metadata": {},
   "outputs": [],
   "source": [
    "def chi_feature_selection(X_train, y_train, vocabilary_of_preselected_words, num_words):\n",
    "    vectorizer_w = TfidfVectorizer(ngram_range=(1, 2), vocabulary = vocabilary_of_preselected_words, tokenizer =convert_to_stem)\n",
    "    X_for_word_selection = vectorizer_w.fit_transform(X_train)\n",
    "    chi2score = chi2(X_for_word_selection, y_train.astype(str))[1]\n",
    "    wscores = list(zip(vectorizer_w.get_feature_names(), chi2score))\n",
    "    wchi2 = sorted(wscores, key=lambda x:x[1],reverse=False)\n",
    "    wchi2 = [x[0] for x in wchi2]\n",
    "    return wchi2[:num_words]\n",
    "\n",
    "\n",
    "def chi_sq_top(train_df, num_words=100):\n",
    "    result = []\n",
    "    words_above_treshold = words_with_freq_above_treshold(train_df.copy()['Text'],4)\n",
    "    for label in train_df['Emoji'].unique():\n",
    "        df_new = train_df.copy()\n",
    "\n",
    "        df_new['Emoji'] = (df_new['Emoji'] == label)\n",
    "        X_train = df_new['Text']\n",
    "        y_train = df_new['Emoji']\n",
    "\n",
    "        top = chi_feature_selection(X_train, y_train, words_above_treshold, num_words)\n",
    "        words_above_treshold = list(set(words_above_treshold) - set(top))\n",
    "        result = result + top\n",
    "    return result\n",
    "chi_selected = chi_sq_top(train_df)"
   ]
  },
  {
   "cell_type": "code",
   "execution_count": 21,
   "metadata": {},
   "outputs": [
    {
     "name": "stdout",
     "output_type": "stream",
     "text": [
      "2000\n"
     ]
    }
   ],
   "source": [
    "print(len(list(set(chi_selected))))"
   ]
  },
  {
   "cell_type": "markdown",
   "metadata": {},
   "source": [
    "Feature selection with decision tree\n"
   ]
  },
  {
   "cell_type": "code",
   "execution_count": null,
   "metadata": {},
   "outputs": [],
   "source": [
    "def CountVectorizer_tree_feature_selection(X_train, y_train, words_above_treshold,num_words):\n",
    "    clf = DecisionTreeClassifier(criterion=\"entropy\")\n",
    "    vect = CountVectorizer(tokenizer = convert_to_stem, vocabulary=words_above_treshold).fit(X_train)\n",
    "    X_train_vectorized = vect.transform(X_train)\n",
    "    model = clf.fit(X_train_vectorized, y_train)\n",
    "    top_idx = clf.feature_importances_.argsort()[-num_words:][::-1]\n",
    "\n",
    "\n",
    "    names = vect.get_feature_names()\n",
    "    names = np.array(names)\n",
    "\n",
    "    feature_names = names[top_idx]\n",
    "    return feature_names\n",
    "\n",
    "def tree_selection(train_df, num_words, chi_selected):\n",
    "    result = []\n",
    "    words_above_treshold = words_with_freq_above_treshold(df.copy()['Text'],4)\n",
    "    words_above_treshold = list(set(words_above_treshold) - set(chi_selected))\n",
    "    for label in train_df['Emoji'].unique():\n",
    "        df_new = train_df.copy()\n",
    "        df_new['Emoji'] = (df_new['Emoji'] == label)\n",
    "        X_train = df_new['Text']\n",
    "        y_train = df_new['Emoji']\n",
    "        df_new = train_df.copy()\n",
    "\n",
    "        top = CountVectorizer_tree_feature_selection(X_train, y_train, words_above_treshold,num_words)\n",
    "        words_above_treshold = list(set(words_above_treshold) - set(top))\n",
    "        result = result + list(top)\n",
    "    return result\n",
    "tree_selected = tree_selection(train_df.copy().iloc[:,:],  150, chi_selected)"
   ]
  },
  {
   "cell_type": "markdown",
   "metadata": {},
   "source": [
    "Train a model with one SVM for each class. The conflicts are resolved with a global SVM which is train only on the\n",
    "most informative words"
   ]
  },
  {
   "cell_type": "code",
   "execution_count": null,
   "metadata": {},
   "outputs": [],
   "source": [
    "def locals_SVM_idf(train_df, test_df):\n",
    "    models = []\n",
    "    \n",
    "    X_train = train_df['Text']\n",
    "    X_test = test_df ['Text']\n",
    "    \n",
    "    vect = TfidfVectorizer(tokenizer = convert_to_stem, min_df=5).fit(X_train)\n",
    "    \n",
    "    X_train_vectorized = vect.transform(X_train)\n",
    "    X_test_vectorized = vect.transform(X_test)\n",
    "    \n",
    "    for label in range(len(train_df['Emoji'].unique())):\n",
    "        new_train_df = train_df.copy()\n",
    "        new_train_df['Emoji'] = (new_train_df['Emoji'] == label)\n",
    "        y_train = new_train_df['Emoji']\n",
    "        model = LinearSVC(C=0.5).fit(X_train_vectorized, y_train)\n",
    "        models.append((model,label))\n",
    "    return X_test_vectorized, models\n",
    "\n",
    "\n",
    "def global_SVM(train_df, test_df, clf):\n",
    "    \n",
    "    X_train = train_df['Text']\n",
    "    y_train = train_df['Emoji']\n",
    "    X_test = test_df ['Text']\n",
    "    words_in_clf = tree_selected + chi_selected\n",
    "    vect = CountVectorizer(tokenizer = convert_to_stem, vocabulary=words_in_clf).fit(X_train)\n",
    "    \n",
    "    X_train_vectorized = vect.transform(X_train)    \n",
    "    X_train_vectorized = normalize(X_train_vectorized, norm='l2')\n",
    "    \n",
    "    X_test_vectorized = vect.transform(X_test)\n",
    "    X_test_vectorized = normalize(X_test_vectorized, norm='l2')\n",
    "    \n",
    "    global_model = clf.fit(X_train_vectorized, y_train)\n",
    "\n",
    "    \n",
    "    return X_test_vectorized, global_model\n",
    "\n",
    "        \n",
    "def fit_predict(train_df, test_df, clf):\n",
    "        \n",
    "        X_test_local, local_models = locals_SVM_idf(train_df.copy(),test_df.copy())\n",
    "        X_test_global, global_model = global_SVM(train_df, test_df, clf)\n",
    "        local_df = pd.DataFrame(columns= range(len(train_df['Emoji'].unique())))\n",
    "        for idx in range(len(local_models)):\n",
    "            label = local_models[idx][1]\n",
    "            model = local_models[idx][0]\n",
    "            local_pred = model.predict(X_test_local)\n",
    "            \n",
    "                \n",
    "            local_df[label]= local_pred\n",
    "        \n",
    "        local_r = local_df.sum(axis=1)\n",
    "\n",
    "        local_final_pred = local_df[local_r == 1].idxmax(axis=1)\n",
    "        #local_final_pred = local_df[local_df['local_result'] == 1].dropna(subset=[\"local_result\"]).idxmax(axis=1)\n",
    "        global_pred = global_model.predict(X_test_global)\n",
    "        global_pred[local_final_pred.index] = local_final_pred\n",
    "        evaluate_prediction(global_pred, test_df['Emoji'])\n",
    "        return #global_pred\n",
    "fit_predict(train_df, test_df, LinearSVC(C=1))"
   ]
  },
  {
   "cell_type": "code",
   "execution_count": 112,
   "metadata": {},
   "outputs": [
    {
     "name": "stdout",
     "output_type": "stream",
     "text": [
      "acc: 0.4359658854527805\n",
      "F1 micro: 0.44\n",
      "F1 macro: 0.28\n",
      "Micro-averaged precision = 0.44 (treat instances equally)\n",
      "Macro-averaged precision = 0.34 (treat classes equally)\n",
      "Micro-averaged recall = 0.44 (treat instances equally)\n",
      "Macro-averaged recall = 0.29 (treat classes equally)\n"
     ]
    },
    {
     "data": {
      "image/png": "[encoded data removed]",
      "text/plain": [
       "<Figure size 432x288 with 2 Axes>"
      ]
     },
     "metadata": {},
     "output_type": "display_data"
    }
   ],
   "source": [
    "fit_predict(train_df, valid_df, LinearSVC(C=1))"
   ]
  }
 ],
 "metadata": {
  "kernelspec": {
   "display_name": "Python 3",
   "language": "python",
   "name": "python3"
  },
  "language_info": {
   "codemirror_mode": {
    "name": "ipython",
    "version": 3
   },
   "file_extension": ".py",
   "mimetype": "text/x-python",
   "name": "python",
   "nbconvert_exporter": "python",
   "pygments_lexer": "ipython3",
   "version": "3.6.4"
  }
 },
 "nbformat": 4,
 "nbformat_minor": 2
}
